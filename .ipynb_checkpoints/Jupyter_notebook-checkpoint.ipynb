{
 "cells": [
  {
   "cell_type": "markdown",
   "id": "3a88c466-fc17-45ac-acd8-dcd5ef218def",
   "metadata": {},
   "source": [
    "# Markdown\n",
    "\n",
    "This is a markdown cell. It is meant for writing. You can write math like this: $math=numbers + fun$\n",
    "\n",
    "You can put it on a separate line like this: $$math = numbers + fun$$"
   ]
  },
  {
   "cell_type": "code",
   "execution_count": 7,
   "id": "3a187a75-3375-46ac-8d6b-bc95cf13124e",
   "metadata": {},
   "outputs": [
    {
     "name": "stdout",
     "output_type": "stream",
     "text": [
      "7\n"
     ]
    }
   ],
   "source": [
    "## Code cell\n",
    "\n",
    "# This is used to write code. Text like this can be written with a # comment\n",
    "\n",
    "# Math can be done like this:\n",
    "\n",
    "thing1 = 3 + 4\n",
    "print(thing1)\n",
    "\n",
    "# Sections of math can be quickly commented out like this (but may still show up)\n",
    "'''\n",
    "thing2 = 3 + 4\n",
    "print(thing2)\n",
    "'''\n",
    "\n",
    "# Packages have to be imported at some point; not necessarily in the cell\n",
    "# where the math is done, but temporally before they are used\n",
    "\n",
    "import numpy as np"
   ]
  },
  {
   "cell_type": "code",
   "execution_count": null,
   "id": "d4e5936a-3919-462f-957b-947161ab1128",
   "metadata": {},
   "outputs": [],
   "source": []
  }
 ],
 "metadata": {
  "kernelspec": {
   "display_name": "Python 3 (ipykernel)",
   "language": "python",
   "name": "python3"
  },
  "language_info": {
   "codemirror_mode": {
    "name": "ipython",
    "version": 3
   },
   "file_extension": ".py",
   "mimetype": "text/x-python",
   "name": "python",
   "nbconvert_exporter": "python",
   "pygments_lexer": "ipython3",
   "version": "3.9.12"
  }
 },
 "nbformat": 4,
 "nbformat_minor": 5
}
