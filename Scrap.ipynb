{
 "cells": [
  {
   "cell_type": "markdown",
   "id": "c5a54062-2cd4-4068-afca-3823c32951e7",
   "metadata": {},
   "source": [
    "# Scrap\n",
    "\n",
    "This notebook is meant for randomly messing around in."
   ]
  },
  {
   "cell_type": "code",
   "execution_count": 7,
   "id": "84a1eac0-2529-4f24-8139-a595a37ff3a7",
   "metadata": {},
   "outputs": [
    {
     "name": "stdout",
     "output_type": "stream",
     "text": [
      "Just for whatever...\n"
     ]
    }
   ],
   "source": [
    "print('Just for whatever...')"
   ]
  },
  {
   "cell_type": "code",
   "execution_count": null,
   "id": "121937e6-b32e-4cc8-9d0a-2d8a6dc69d7e",
   "metadata": {},
   "outputs": [],
   "source": []
  }
 ],
 "metadata": {
  "kernelspec": {
   "display_name": "Python 3 (ipykernel)",
   "language": "python",
   "name": "python3"
  },
  "language_info": {
   "codemirror_mode": {
    "name": "ipython",
    "version": 3
   },
   "file_extension": ".py",
   "mimetype": "text/x-python",
   "name": "python",
   "nbconvert_exporter": "python",
   "pygments_lexer": "ipython3",
   "version": "3.9.12"
  }
 },
 "nbformat": 4,
 "nbformat_minor": 5
}
