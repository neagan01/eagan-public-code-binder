{
 "cells": [
  {
   "cell_type": "markdown",
   "id": "6e0ed9b6-43f3-4bf9-9b66-db79ef4b4772",
   "metadata": {},
   "source": [
    "# Some Jupyter Notebook Basics"
   ]
  },
  {
   "cell_type": "markdown",
   "id": "3a88c466-fc17-45ac-acd8-dcd5ef218def",
   "metadata": {},
   "source": [
    "## Markdown cells\n",
    "\n",
    "This is a markdown cell. It is meant for writing. You can write math like this: $math=numbers + fun$\n",
    "\n",
    "You can put it on a separate line like this: $$math = numbers + fun$$"
   ]
  },
  {
   "cell_type": "code",
   "execution_count": 26,
   "id": "3a187a75-3375-46ac-8d6b-bc95cf13124e",
   "metadata": {},
   "outputs": [
    {
     "name": "stdout",
     "output_type": "stream",
     "text": [
      "7\n"
     ]
    }
   ],
   "source": [
    "# Code cells\n",
    "\n",
    "# This is used to write code. Text like this can be written with a # comment\n",
    "\n",
    "# Math can be done like this:\n",
    "\n",
    "thing1 = 3 + 4\n",
    "print(thing1)\n",
    "\n",
    "# To run the cell you can first enter it and the either click the run button or press shift-enter.\n",
    "# Alternatively you can press a button that runs all cells or one that restarts the kernel (dump all stored information) and run all."
   ]
  },
  {
   "cell_type": "code",
   "execution_count": 28,
   "id": "5bafe8ec-3d11-4234-9751-aa078d7ee39a",
   "metadata": {},
   "outputs": [
    {
     "name": "stdout",
     "output_type": "stream",
     "text": [
      "This will print.\n"
     ]
    }
   ],
   "source": [
    "# Sections of math can be quickly commented out like this (but may still show up)\n",
    "\n",
    "'''\n",
    "thing2 = 3 + 4\n",
    "print(thing2)\n",
    "print('This will not print.')\n",
    "'''\n",
    "\n",
    "print('This will print.')"
   ]
  },
  {
   "cell_type": "code",
   "execution_count": 29,
   "id": "01445c73-690a-488b-a593-dda381245fac",
   "metadata": {},
   "outputs": [],
   "source": [
    "# Packages have to be imported at some point; not necessarily in the cell\n",
    "# where the math is done, but temporally before they are used\n",
    "\n",
    "import numpy as np"
   ]
  },
  {
   "cell_type": "code",
   "execution_count": 24,
   "id": "d4e5936a-3919-462f-957b-947161ab1128",
   "metadata": {},
   "outputs": [
    {
     "name": "stdout",
     "output_type": "stream",
     "text": [
      "Hello!\n",
      "Hello again!\n"
     ]
    }
   ],
   "source": [
    "## Programs can also be run simply with just the \"run\" command preceded by a % sign:\n",
    "%run hello\n",
    "%run hello_again"
   ]
  }
 ],
 "metadata": {
  "kernelspec": {
   "display_name": "Python 3 (ipykernel)",
   "language": "python",
   "name": "python3"
  },
  "language_info": {
   "codemirror_mode": {
    "name": "ipython",
    "version": 3
   },
   "file_extension": ".py",
   "mimetype": "text/x-python",
   "name": "python",
   "nbconvert_exporter": "python",
   "pygments_lexer": "ipython3",
   "version": "3.9.12"
  }
 },
 "nbformat": 4,
 "nbformat_minor": 5
}
